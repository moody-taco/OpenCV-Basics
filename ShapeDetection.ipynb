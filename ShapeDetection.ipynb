{
 "cells": [
  {
   "cell_type": "markdown",
   "metadata": {},
   "source": [
    "# Shape Detection  \n",
    "using contour lines"
   ]
  },
  {
   "cell_type": "markdown",
   "metadata": {},
   "source": [
    "## Importing Dependencies"
   ]
  },
  {
   "cell_type": "code",
   "execution_count": 2,
   "metadata": {},
   "outputs": [],
   "source": [
    "import cv2\n",
    "import numpy as np"
   ]
  },
  {
   "cell_type": "markdown",
   "metadata": {},
   "source": [
    "## Creating a function to display image"
   ]
  },
  {
   "cell_type": "code",
   "execution_count": 4,
   "metadata": {},
   "outputs": [],
   "source": [
    "def display(img):\n",
    "    cv2.imshow('Frame', img)\n",
    "    cv2.waitKey(0)\n",
    "    cv2.destroyAllWindows()"
   ]
  },
  {
   "cell_type": "markdown",
   "metadata": {},
   "source": [
    "## Loading the Image"
   ]
  },
  {
   "cell_type": "code",
   "execution_count": 69,
   "metadata": {},
   "outputs": [],
   "source": [
    "cap = cv2.imread('Input/Square.png')\n",
    "display(cap)"
   ]
  },
  {
   "cell_type": "markdown",
   "metadata": {},
   "source": [
    "## Preprocessing"
   ]
  },
  {
   "cell_type": "code",
   "execution_count": 70,
   "metadata": {},
   "outputs": [],
   "source": [
    "# Applying Gaussian Blur\n",
    "imgBlur = cv2.GaussianBlur(cap, (7, 7), 1)\n",
    "\n",
    "kernel = np.ones((5, 5))\n",
    "imgDil = cv2.dilate(imgBlur, kernel, iterations=1)\n",
    "\n",
    "# Converting to Grayscale\n",
    "imgGray = cv2.cvtColor(imgDil, cv2.COLOR_BGR2GRAY)\n",
    "\n",
    "display(imgGray)"
   ]
  },
  {
   "cell_type": "markdown",
   "metadata": {},
   "source": [
    "## Edge Detection"
   ]
  },
  {
   "cell_type": "code",
   "execution_count": 71,
   "metadata": {},
   "outputs": [],
   "source": [
    "# Canny Edge Detection\n",
    "imgCanny = cv2.Canny(imgGray, 180, 185)\n",
    "display(imgCanny)"
   ]
  },
  {
   "cell_type": "code",
   "execution_count": 72,
   "metadata": {},
   "outputs": [],
   "source": [
    "# Dilating the image\n",
    "kernel = np.ones((5, 5))\n",
    "imgDil = cv2.dilate(imgCanny, kernel, iterations=1)\n",
    "display(imgDil)"
   ]
  },
  {
   "cell_type": "markdown",
   "metadata": {},
   "source": [
    "## Contours"
   ]
  },
  {
   "cell_type": "code",
   "execution_count": 73,
   "metadata": {},
   "outputs": [],
   "source": [
    "def getContours(img, imgContour):\n",
    "    contours, heirarchy = cv2.findContours(img, cv2.RETR_EXTERNAL, cv2.CHAIN_APPROX_NONE)\n",
    "\n",
    "    for cnt in contours:\n",
    "            area = cv2.contourArea(cnt)\n",
    "            # Removing noise\n",
    "            if area > 1000:\n",
    "                 cv2.drawContours(imgContour, cnt, -1, (255, 0, 255), 7)\n",
    "\n",
    "                 # Shape Detection\n",
    "                 peri = cv2.arcLength(cnt, True) # True implies that the contour is close\n",
    "                 approx = cv2.approxPolyDP(cnt, 0.02*peri, True) # Gives approximate vertex positions\n",
    "                 # print(len(approx))\n",
    "\n",
    "                 # Making the Bounding Box\n",
    "                 x, y, w, h = cv2.boundingRect(approx) # makes a bounding box around the shape\n",
    "                 cv2.rectangle(imgContour, (x, y), (x+w, y+h), (0, 255, 0), 5) # Corner1, Corner2, Colour in BGR, Width\n",
    "\n",
    "                 # Displaying the value of number of points and area\n",
    "                 cv2.putText(imgContour, \"Points: \" + str(len(approx)), (x + w + 20, y + 20), cv2.FONT_HERSHEY_COMPLEX, 0.7, (0, 255, 0), 2)\n",
    "                 cv2.putText(imgContour, \"Area: \" + str(int(area)), (x + w + 20, y + 45), cv2.FONT_HERSHEY_COMPLEX, 0.7, (0, 255, 0), 2)\n"
   ]
  },
  {
   "cell_type": "code",
   "execution_count": 74,
   "metadata": {},
   "outputs": [],
   "source": [
    "imgContour = cap.copy()\n",
    "getContours(imgDil, imgContour)\n",
    "display(imgContour)"
   ]
  }
 ],
 "metadata": {
  "kernelspec": {
   "display_name": "Python 3",
   "language": "python",
   "name": "python3"
  },
  "language_info": {
   "codemirror_mode": {
    "name": "ipython",
    "version": 3
   },
   "file_extension": ".py",
   "mimetype": "text/x-python",
   "name": "python",
   "nbconvert_exporter": "python",
   "pygments_lexer": "ipython3",
   "version": "3.8.10"
  }
 },
 "nbformat": 4,
 "nbformat_minor": 2
}
